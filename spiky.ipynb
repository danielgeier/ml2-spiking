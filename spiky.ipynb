{
 "cells": [
  {
   "cell_type": "code",
   "execution_count": 3,
   "metadata": {
    "collapsed": false
   },
   "outputs": [],
   "source": [
    "from __future__ import division\n",
    "\n",
    "import roslib  # ; roslib.load_manifest(PKG)\n",
    "\n",
    "import rospy\n",
    "import sys\n",
    "import cv2\n",
    "import std_msgs\n",
    "# from dvs_msgs.msg import Event\n",
    "# from dvs_msgs.msg import EventArray\n",
    "from geometry_msgs.msg import Vector3\n",
    "from sensor_msgs.msg import Image, CameraInfo\n",
    "from rospy.numpy_msg import numpy_msg\n",
    "import numpy as np\n",
    "from cv_bridge import CvBridge, CvBridgeError\n",
    "import pyNN\n",
    "from pyNN.nest import Population, SpikeSourcePoisson, SpikeSourceArray, AllToAllConnector, run, setup, IF_curr_alpha, \\\n",
    "    end\n",
    "from pyNN.nest.projections import Projection\n",
    "\n",
    "import matplotlib.pyplot as plt\n",
    "\n",
    "%matplotlib inline"
   ]
  },
  {
   "cell_type": "code",
   "execution_count": 8,
   "metadata": {
    "collapsed": false
   },
   "outputs": [
    {
     "name": "stdout",
     "output_type": "stream",
     "text": [
      "[  1.6   3.3   5.    6.7   8.4  10.1  11.8  13.5  15.2  16.9  18.6  20.3\n",
      "  22.   23.7  25.4  27.1  28.8  30.5  32.2  33.9  35.6  37.3  39.   40.7\n",
      "  42.4  44.1  45.8  47.5  49.2  50.9  52.6  54.3  56.   57.7  59.4  61.1\n",
      "  62.8  64.5  66.2  67.9  69.6  71.3  73.   74.7  76.4  78.1  79.8  81.5\n",
      "  83.2  84.9  86.6  88.3  90.   91.7  93.4  95.1  96.8  98.5] ms\n"
     ]
    },
    {
     "data": {
      "text/plain": [
       "[<matplotlib.lines.Line2D at 0x7fbf95863950>]"
      ]
     },
     "execution_count": 8,
     "metadata": {},
     "output_type": "execute_result"
    },
    {
     "data": {
      "image/png": "[encoded data removed]",
      "text/plain": [
       "<matplotlib.figure.Figure at 0x7fbf97f2c590>"
      ]
     },
     "metadata": {},
     "output_type": "display_data"
    }
   ],
   "source": [
    "\n",
    "setup(timestep=0.1)\n",
    "\n",
    "p = Population(1, IF_curr_alpha, {'i_offset' : 10.})\n",
    "p.record('spikes')\n",
    "run(100.)\n",
    "\n",
    "end()\n",
    "\n",
    "spikes = p.get_data().segments[0].spiketrains[0]\n",
    "\n",
    "print spikes\n",
    "\n",
    "plt.plot(spikes, np.ones(spikes.size), '.')\n"
   ]
  },
  {
   "cell_type": "code",
   "execution_count": 27,
   "metadata": {
    "collapsed": false
   },
   "outputs": [
    {
     "name": "stdout",
     "output_type": "stream",
     "text": [
      "[]\n",
      "3\n"
     ]
    }
   ],
   "source": [
    "setup(timestep=0.1)\n",
    "\n",
    "p = Population(1, IF_curr_alpha, {'i_offset' : 1.})\n",
    "p.record('v')\n",
    "run(100.)\n",
    "\n",
    "\n",
    "end()\n",
    "\n",
    "spikes = p.get_data().segments[0].spiketrains\n",
    "\n",
    "print spikes\n",
    "print p[0]\n",
    "#plt.plot(spikes, np.ones(spikes.size), '.')\n"
   ]
  },
  {
   "cell_type": "code",
   "execution_count": 20,
   "metadata": {
    "collapsed": false
   },
   "outputs": [
    {
     "data": {
      "text/plain": [
       "['spikes', 'v']"
      ]
     },
     "execution_count": 20,
     "metadata": {},
     "output_type": "execute_result"
    }
   ],
   "source": [
    "IF_curr_alpha.recordable"
   ]
  }
 ],
 "metadata": {
  "kernelspec": {
   "display_name": "Python 2",
   "language": "python",
   "name": "python2"
  },
  "language_info": {
   "codemirror_mode": {
    "name": "ipython",
    "version": 2
   },
   "file_extension": ".py",
   "mimetype": "text/x-python",
   "name": "python",
   "nbconvert_exporter": "python",
   "pygments_lexer": "ipython2",
   "version": "2.7.6"
  }
 },
 "nbformat": 4,
 "nbformat_minor": 0
}
