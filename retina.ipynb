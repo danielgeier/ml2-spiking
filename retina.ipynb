{
 "cells": [
  {
   "cell_type": "code",
   "execution_count": 1,
   "metadata": {
    "collapsed": false
   },
   "outputs": [],
   "source": [
    "import cv2\n",
    "import numpy as np\n",
    "import rospy\n",
    "\n",
    "from cv_bridge import CvBridge, CvBridgeError\n",
    "from sensor_msgs.msg import Image\n",
    "from simretina import gui, retina"
   ]
  },
  {
   "cell_type": "code",
   "execution_count": 3,
   "metadata": {
    "collapsed": false
   },
   "outputs": [],
   "source": [
    "eye = retina.init_retina((50, 100))\n",
    "# 10+ parameters here...\n",
    "# See http://docs.opencv.org/3.1.0/dc/d54/classcv_1_1bioinspired_1_1Retina.html#ac6d6767e14212b5ebd7c5bbc6477fa7a\n",
    "eye.setupOPLandIPLParvoChannel(colorMode=False, normaliseOutput=False)\n",
    "eye.setupIPLMagnoChannel()\n",
    "bridge = CvBridge()\n",
    "\n",
    "def process_image(ros_image):\n",
    "    global bridge\n",
    "    \n",
    "    try:\n",
    "        frame = bridge.imgmsg_to_cv2(ros_image)\n",
    "    except CvBridgeError, e:\n",
    "        print e\n",
    "\n",
    "    # Get picture from retina\n",
    "    eye.run(frame)\n",
    "    magno_frame = eye.getParvo()\n",
    "        \n",
    "    cv2.imshow('', frame)\n",
    "    cv2.imshow('magno', magno_frame)\n",
    "    cv2.waitKey(1)\n",
    "    \n",
    "\n",
    "rospy.init_node(\"retina\")\n",
    "\n",
    "image_sub = rospy.Subscriber(\n",
    "    \"/AADC_AudiTT/camera_front/image_raw\", \n",
    "    Image,\n",
    "    process_image,\n",
    "    queue_size=1,\n",
    "    buff_size=65536*3\n",
    ")"
   ]
  },
  {
   "cell_type": "code",
   "execution_count": null,
   "metadata": {},
   "outputs": [],
   "source": [
    ""
   ]
  }
 ],
 "metadata": {
  "kernelspec": {
   "display_name": "Python 2",
   "language": "python",
   "name": "python2"
  },
  "language_info": {
   "codemirror_mode": {
    "name": "ipython",
    "version": 2.0
   },
   "file_extension": ".py",
   "mimetype": "text/x-python",
   "name": "python",
   "nbconvert_exporter": "python",
   "pygments_lexer": "ipython2",
   "version": "2.7.6"
  }
 },
 "nbformat": 4,
 "nbformat_minor": 0
}